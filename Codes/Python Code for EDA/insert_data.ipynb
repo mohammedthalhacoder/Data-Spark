{
 "cells": [
  {
   "cell_type": "code",
   "execution_count": 1,
   "metadata": {},
   "outputs": [],
   "source": [
    "import mysql.connector as db\n",
    "import pandas as pd"
   ]
  },
  {
   "cell_type": "code",
   "execution_count": 2,
   "metadata": {},
   "outputs": [],
   "source": [
    "Cus = pd.read_csv(r\"F:\\GUVI\\Project\\Data Spark\\Codes\\Cleaned DATA\\Cleaned_Customers_data.csv\", index_col=0)\n",
    "E_R = pd.read_csv(r\"F:\\GUVI\\Project\\Data Spark\\Codes\\Cleaned DATA\\Cleaned_Exchange_Rates_data.csv\", index_col=0)\n",
    "Prod = pd.read_csv(r\"F:\\GUVI\\Project\\Data Spark\\Codes\\Cleaned DATA\\Cleaned_Products_data.csv\", index_col=0)\n",
    "Sales = pd.read_csv(r\"F:\\GUVI\\Project\\Data Spark\\Codes\\Cleaned DATA\\Cleaned_Sales_data.csv\", index_col=0)\n",
    "Stores = pd.read_csv(r\"F:\\GUVI\\Project\\Data Spark\\Codes\\Cleaned DATA\\Cleaned_stores_data.csv\", index_col=0)"
   ]
  },
  {
   "cell_type": "code",
   "execution_count": null,
   "metadata": {},
   "outputs": [],
   "source": [
    "# merging the customer data and Sales data by CustomerKey\n",
    "\n",
    "Cus_Sales = pd.merge(Cus, Sales, on=\"CustomerKey\", how='inner')\n",
    "\n",
    "# merging the customer data & Sales data & product data by ProductKey\n",
    "\n",
    "cus_sal_prod = pd.merge(Cus_Sales, Prod, on='ProductKey', how='inner')"
   ]
  },
  {
   "cell_type": "code",
   "execution_count": null,
   "metadata": {},
   "outputs": [],
   "source": [
    "# merging the product data and Sales data by ProductKey\n",
    "\n",
    "prod_sales = pd.merge(Prod, Sales, on='ProductKey', how='inner')"
   ]
  },
  {
   "cell_type": "code",
   "execution_count": null,
   "metadata": {},
   "outputs": [],
   "source": [
    "# merging the Sales data and Store Data by StoreKey\n",
    "\n",
    "sales_stores = pd.merge(Sales, Stores, on='StoreKey', how='inner')"
   ]
  },
  {
   "cell_type": "code",
   "execution_count": 6,
   "metadata": {},
   "outputs": [],
   "source": [
    "db_connection = db.connect(\n",
    "    host = \"localhost\",\n",
    "    user = \"NewUser\",\n",
    "    password = \"root\",\n",
    "    database = \"dataspark\"\n",
    ")\n",
    "\n",
    "curr = db_connection.cursor()"
   ]
  },
  {
   "cell_type": "code",
   "execution_count": 8,
   "metadata": {},
   "outputs": [],
   "source": [
    "# Customer data\n",
    "\n",
    "create_cus_table = \"\"\"\n",
    "CREATE TABLE dataspark.Customers(\n",
    "            CustomerKey INT,\n",
    "            Gender varchar(50),\n",
    "            Name varchar(50),\n",
    "            City varchar(50),\n",
    "            State_Code varchar(50),\n",
    "            State varchar(50),\n",
    "            Zip_Code varchar(50),\n",
    "            Country varchar(50),\n",
    "            Continent varchar(50),\n",
    "            Birthday date,\n",
    "            Age int\n",
    "            );\n",
    "\"\"\"\n",
    "curr.execute(create_cus_table)\n",
    "\n",
    "\n",
    "Insert_query = \"\"\"\n",
    "INSERT INTO dataspark.customers(CustomerKey,Gender,Name,City,State_Code,State,Zip_Code,Country,Continent,Birthday,Age)\n",
    "VALUES(%s,%s,%s,%s,%s,%s,%s,%s,%s,%s,%s)\n",
    "\"\"\"\n",
    "\n",
    "for _, row in Cus.iterrows():\n",
    "    curr.execute(Insert_query, tuple(row))\n",
    "\n",
    "db_connection.commit()"
   ]
  },
  {
   "cell_type": "code",
   "execution_count": 10,
   "metadata": {},
   "outputs": [],
   "source": []
  },
  {
   "cell_type": "code",
   "execution_count": 15,
   "metadata": {},
   "outputs": [],
   "source": [
    "# Exchange rate data\n",
    "\n",
    "create_E_R_table = \"\"\"\n",
    "CREATE TABLE dataspark.exchange_rate(\n",
    "            Date date,\n",
    "            Currency varchar(50),\n",
    "            Exchange float\n",
    "            );\n",
    "\"\"\"\n",
    "curr.execute(create_E_R_table)\n",
    "\n",
    "\n",
    "Insert_E_R_query = \"\"\"\n",
    "INSERT INTO dataspark.exchange_rate(Date,Currency,Exchange)\n",
    "VALUES(%s,%s,%s)\n",
    "\"\"\"\n",
    "\n",
    "for _, row in E_R.iterrows():\n",
    "    curr.execute(Insert_E_R_query, tuple(row))\n",
    "\n",
    "db_connection.commit()"
   ]
  },
  {
   "cell_type": "code",
   "execution_count": 19,
   "metadata": {},
   "outputs": [],
   "source": []
  },
  {
   "cell_type": "code",
   "execution_count": 30,
   "metadata": {},
   "outputs": [],
   "source": [
    "# Products data\n",
    "\n",
    "create_Prod_table = \"\"\"\n",
    "CREATE TABLE dataspark.products(\n",
    "            ProductKey INT,\n",
    "            Product_Name varchar(100),\n",
    "            Brand varchar(100),\n",
    "            Color varchar(100),\n",
    "            Unit_Cost_USD float,\n",
    "            Unit_Price_USD float,\n",
    "            SubcategoryKey INT,\n",
    "            Subcategory varchar(100),\n",
    "            CategoryKey INT,\n",
    "            Category varchar(100)\n",
    "            );\n",
    "\"\"\"\n",
    "curr.execute(create_Prod_table)\n",
    "\n",
    "\n",
    "Insert_Prod_query = \"\"\"\n",
    "INSERT INTO dataspark.products(ProductKey,Product_Name,Brand,Color,Unit_Cost_USD,Unit_Price_USD,SubcategoryKey,Subcategory,CategoryKey,Category)\n",
    "VALUES(%s,%s,%s,%s,%s,%s,%s,%s,%s,%s)\n",
    "\"\"\"\n",
    "\n",
    "for _, row in Prod.iterrows():\n",
    "    curr.execute(Insert_Prod_query, tuple(row))\n",
    "\n",
    "db_connection.commit()"
   ]
  },
  {
   "cell_type": "code",
   "execution_count": 33,
   "metadata": {},
   "outputs": [
    {
     "data": {
      "text/plain": [
       "(62884, 9)"
      ]
     },
     "execution_count": 33,
     "metadata": {},
     "output_type": "execute_result"
    }
   ],
   "source": [
    "Sales.shape"
   ]
  },
  {
   "cell_type": "code",
   "execution_count": 32,
   "metadata": {},
   "outputs": [],
   "source": [
    "# Sales data\n",
    "\n",
    "create_Sales_table = \"\"\"\n",
    "CREATE TABLE dataspark.Sales(\n",
    "            Order_Number INT,\n",
    "            Line_Item INT,\n",
    "            Order_Date date,\n",
    "            Delivery_Date date,\n",
    "            CustomerKey INT,\n",
    "            StoreKey INT,\n",
    "            ProductKey INT,\n",
    "            Quantity INT,\n",
    "            Currency_Code varchar(50)\n",
    "            );\n",
    "\"\"\"\n",
    "curr.execute(create_Sales_table)\n",
    "\n",
    "\n",
    "Insert_Sales_query = \"\"\"\n",
    "INSERT INTO dataspark.Sales(Order_Number,Line_Item,Order_Date,Delivery_Date,CustomerKey,StoreKey,ProductKey,Quantity,Currency_Code)\n",
    "VALUES(%s,%s,%s,%s,%s,%s,%s,%s,%s)\n",
    "\"\"\"\n",
    "\n",
    "for _, row in Sales.iterrows():\n",
    "    curr.execute(Insert_Sales_query, tuple(row))\n",
    "\n",
    "db_connection.commit()"
   ]
  },
  {
   "cell_type": "code",
   "execution_count": 36,
   "metadata": {},
   "outputs": [
    {
     "data": {
      "text/plain": [
       "(67, 5)"
      ]
     },
     "execution_count": 36,
     "metadata": {},
     "output_type": "execute_result"
    }
   ],
   "source": [
    "Stores.shape"
   ]
  },
  {
   "cell_type": "code",
   "execution_count": 35,
   "metadata": {},
   "outputs": [],
   "source": [
    "# Stores data\n",
    "\n",
    "create_Stores_table = \"\"\"\n",
    "CREATE TABLE dataspark.Stores(\n",
    "            StoreKey INT,\n",
    "            Country varchar(100),\n",
    "            State varchar(100),\n",
    "            Square_Meters float,\n",
    "            Open_Date date\n",
    "            );\n",
    "\"\"\"\n",
    "curr.execute(create_Stores_table)\n",
    "\n",
    "\n",
    "Insert_Stores_query = \"\"\"\n",
    "INSERT INTO dataspark.Stores(StoreKey,Country,State,Square_Meters,Open_Date)\n",
    "VALUES(%s,%s,%s,%s,%s)\n",
    "\"\"\"\n",
    "\n",
    "for _, row in Stores.iterrows():\n",
    "    curr.execute(Insert_Stores_query, tuple(row))\n",
    "\n",
    "db_connection.commit()"
   ]
  }
 ],
 "metadata": {
  "kernelspec": {
   "display_name": "Python 3",
   "language": "python",
   "name": "python3"
  },
  "language_info": {
   "codemirror_mode": {
    "name": "ipython",
    "version": 3
   },
   "file_extension": ".py",
   "mimetype": "text/x-python",
   "name": "python",
   "nbconvert_exporter": "python",
   "pygments_lexer": "ipython3",
   "version": "3.12.4"
  }
 },
 "nbformat": 4,
 "nbformat_minor": 2
}

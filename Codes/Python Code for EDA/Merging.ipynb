{
 "cells": [
  {
   "cell_type": "code",
   "execution_count": 1,
   "metadata": {},
   "outputs": [],
   "source": [
    "import pandas as pd"
   ]
  },
  {
   "cell_type": "code",
   "execution_count": 40,
   "metadata": {},
   "outputs": [],
   "source": [
    "Cus = pd.read_csv(r\"F:\\GUVI\\Project\\Data Spark\\Codes\\Cleaned DATA\\Cleaned_Customers_data.csv\", index_col=0)\n",
    "E_R = pd.read_csv(r\"F:\\GUVI\\Project\\Data Spark\\Codes\\Cleaned DATA\\Cleaned_Exchange_Rates_data.csv\", index_col=0)\n",
    "Prod = pd.read_csv(r\"F:\\GUVI\\Project\\Data Spark\\Codes\\Cleaned DATA\\Cleaned_Products_data.csv\", index_col=0)\n",
    "Sales = pd.read_csv(r\"F:\\GUVI\\Project\\Data Spark\\Codes\\Cleaned DATA\\Cleaned_Sales_data.csv\", index_col=0)\n",
    "Stores = pd.read_csv(r\"F:\\GUVI\\Project\\Data Spark\\Codes\\Cleaned DATA\\Cleaned_stores_data.csv\", index_col=0)"
   ]
  },
  {
   "cell_type": "code",
   "execution_count": null,
   "metadata": {},
   "outputs": [],
   "source": [
    "# merging the customer data and Sales data by CustomerKey\n",
    "\n",
    "Cus_Sales = pd.merge(Cus, Sales, on=\"CustomerKey\", how='inner')\n",
    "Cus_Sales"
   ]
  },
  {
   "cell_type": "code",
   "execution_count": null,
   "metadata": {},
   "outputs": [],
   "source": [
    "# merging the customer data & Sales data & product data by ProductKey\n",
    "\n",
    "cus_sal_prod = pd.merge(Cus_Sales, Prod, on='ProductKey', how='inner')\n",
    "cus_sal_prod"
   ]
  },
  {
   "cell_type": "code",
   "execution_count": null,
   "metadata": {},
   "outputs": [],
   "source": [
    "# merging the Sales data and Store Data by StoreKey\n",
    "\n",
    "Sales_Stores = pd.merge(Sales, Stores, on='StoreKey', how='inner')\n",
    "Sales_Stores"
   ]
  },
  {
   "cell_type": "code",
   "execution_count": null,
   "metadata": {},
   "outputs": [],
   "source": []
  }
 ],
 "metadata": {
  "kernelspec": {
   "display_name": "Python 3",
   "language": "python",
   "name": "python3"
  },
  "language_info": {
   "codemirror_mode": {
    "name": "ipython",
    "version": 3
   },
   "file_extension": ".py",
   "mimetype": "text/x-python",
   "name": "python",
   "nbconvert_exporter": "python",
   "pygments_lexer": "ipython3",
   "version": "3.12.4"
  }
 },
 "nbformat": 4,
 "nbformat_minor": 2
}
